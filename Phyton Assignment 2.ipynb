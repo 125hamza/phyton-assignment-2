{
 "cells": [
  {
   "cell_type": "code",
   "execution_count": 1,
   "metadata": {},
   "outputs": [
    {
     "name": "stdout",
     "output_type": "stream",
     "text": [
      "enter your english marks: 70\n",
      "enter your maths marks: 80\n",
      "enter your physics marks: 90\n",
      "enter your chemistry marks: 65\n",
      "enter your urdu marks: 78\n",
      "Grade: A\n"
     ]
    }
   ],
   "source": [
    "sub1=int(input(\"enter your english marks: \"));\n",
    "sub2=int(input(\"enter your maths marks: \"));\n",
    "sub3=int(input(\"enter your physics marks: \"));\n",
    "sub4=int(input(\"enter your chemistry marks: \"));\n",
    "sub5=int(input(\"enter your urdu marks: \"));\n",
    "avg=(sub1+sub2+sub3+sub4+sub5)/5\n",
    "if avg>=80 and avg<=100:\n",
    " print(\"Grade: A+\")\n",
    "elif avg>=70 and avg<=80:\n",
    " print(\"Grade: A\")\n",
    "elif avg>=60 and avg<=70:\n",
    " print(\"Grade: B\")\n",
    "elif avg>=50 and avg<=60:\n",
    " print(\"Grade: C\")\n",
    "elif avg>=40 and avg<=50:\n",
    " print(\"Grade: D\")\n",
    "elif avg>=30 and avg<=40:\n",
    " print(\"Grade: E\")\n",
    "elif avg>=20 and avg<=30:\n",
    " print(\"Grade: F\")"
   ]
  },
  {
   "cell_type": "code",
   "execution_count": 2,
   "metadata": {},
   "outputs": [
    {
     "name": "stdout",
     "output_type": "stream",
     "text": [
      "Enter the number12\n",
      "12  is Even\n"
     ]
    }
   ],
   "source": [
    "x=int(input(\"Enter the number\"))\n",
    "if x%2==0:\n",
    " print(x, \" is Even\")\n",
    "else:\n",
    " print(X, \" is Odd\")"
   ]
  },
  {
   "cell_type": "code",
   "execution_count": 3,
   "metadata": {},
   "outputs": [
    {
     "name": "stdout",
     "output_type": "stream",
     "text": [
      "13\n"
     ]
    }
   ],
   "source": [
    "welcome = \"I Love Phyton\"\n",
    "length_of_list = len(welcome)\n",
    "print(length_of_list)"
   ]
  },
  {
   "cell_type": "code",
   "execution_count": 4,
   "metadata": {},
   "outputs": [
    {
     "name": "stdout",
     "output_type": "stream",
     "text": [
      "39\n"
     ]
    }
   ],
   "source": [
    "Mylist= [1,2,4,5,6,7,8,6]\n",
    "print(sum(Mylist))"
   ]
  },
  {
   "cell_type": "code",
   "execution_count": 5,
   "metadata": {},
   "outputs": [
    {
     "name": "stdout",
     "output_type": "stream",
     "text": [
      "9\n"
     ]
    }
   ],
   "source": [
    "x = (1,9,6,7,8,5)\n",
    "print(max(x))"
   ]
  },
  {
   "cell_type": "code",
   "execution_count": 1,
   "metadata": {},
   "outputs": [
    {
     "name": "stdout",
     "output_type": "stream",
     "text": [
      "1\n",
      "1\n",
      "2\n",
      "3\n"
     ]
    }
   ],
   "source": [
    "list=[1,1,2,3,5,8,13,21,34,55,89]\n",
    "x=len(list)\n",
    "for i in range(x):\n",
    "    if list[i]<5:\n",
    "        print(list[i])"
   ]
  },
  {
   "cell_type": "code",
   "execution_count": null,
   "metadata": {},
   "outputs": [],
   "source": []
  }
 ],
 "metadata": {
  "kernelspec": {
   "display_name": "Python 3",
   "language": "python",
   "name": "python3"
  },
  "language_info": {
   "codemirror_mode": {
    "name": "ipython",
    "version": 3
   },
   "file_extension": ".py",
   "mimetype": "text/x-python",
   "name": "python",
   "nbconvert_exporter": "python",
   "pygments_lexer": "ipython3",
   "version": "3.7.4"
  }
 },
 "nbformat": 4,
 "nbformat_minor": 2
}
